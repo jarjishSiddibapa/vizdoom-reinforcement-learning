{
 "cells": [
  {
   "cell_type": "code",
   "execution_count": 1,
   "id": "d7e9d88f-7c51-4593-aadb-0afb1fedc436",
   "metadata": {},
   "outputs": [],
   "source": [
    "!pip install vizdoom"
   ]
  },
  {
   "cell_type": "code",
   "execution_count": 2,
   "id": "7b9d53e1-2498-4f20-bc19-457717f45a07",
   "metadata": {},
   "outputs": [],
   "source": [
    "!cd github & git clone https://github.com/Farama-Foundation/ViZDoom"
   ]
  },
  {
   "cell_type": "code",
   "execution_count": 3,
   "id": "479f5803-e444-461c-a779-e16af718cf1a",
   "metadata": {},
   "outputs": [],
   "source": [
    "# Import vizdoom for game env\n",
    "from vizdoom import *\n",
    "# Import random for action sampling\n",
    "import random\n",
    "# Import time for sleeping\n",
    "import time\n",
    "# Import numpy for identity matrix\n",
    "import numpy as np"
   ]
  },
  {
   "cell_type": "code",
   "execution_count": 4,
   "id": "312313f7-06a0-4288-afdf-1481c9ed5772",
   "metadata": {},
   "outputs": [],
   "source": [
    "# Setup game\n",
    "game = DoomGame()\n",
    "game.load_config('github/ViZDoom/scenarios/basic.cfg')\n",
    "game.init()"
   ]
  },
  {
   "cell_type": "code",
   "execution_count": 5,
   "id": "913ceefa-9dd3-44ec-a688-3ce675ca812c",
   "metadata": {},
   "outputs": [],
   "source": [
    "# This is the set of actions we can take in the environment\n",
    "actions = np.identity(3, dtype=np.uint8)"
   ]
  },
  {
   "cell_type": "code",
   "execution_count": 6,
   "id": "bf8e40b9-2318-4804-b926-e1201d57955a",
   "metadata": {},
   "outputs": [],
   "source": [
    "state = game.get_state()"
   ]
  },
  {
   "cell_type": "code",
   "execution_count": 7,
   "id": "bf802286-612b-4342-b4a6-bd41690229b3",
   "metadata": {},
   "outputs": [
    {
     "data": {
      "text/plain": [
       "array([50.])"
      ]
     },
     "execution_count": 7,
     "metadata": {},
     "output_type": "execute_result"
    }
   ],
   "source": [
    "state.game_variables"
   ]
  },
  {
   "cell_type": "code",
   "execution_count": 8,
   "id": "836d1358-9241-4b45-af6c-1dd01e17c61f",
   "metadata": {
    "scrolled": true
   },
   "outputs": [
    {
     "name": "stdout",
     "output_type": "stream",
     "text": [
      "reward:  -4.0\n",
      "reward:  -4.0\n",
      "reward:  -4.0\n",
      "reward:  -4.0\n",
      "reward:  -9.0\n",
      "reward:  -4.0\n",
      "reward:  -4.0\n",
      "reward:  -9.0\n",
      "reward:  -4.0\n",
      "reward:  -4.0\n",
      "reward:  -4.0\n",
      "reward:  -4.0\n",
      "reward:  -4.0\n",
      "reward:  -4.0\n",
      "reward:  -4.0\n",
      "reward:  -4.0\n",
      "reward:  -9.0\n",
      "reward:  -4.0\n",
      "reward:  -4.0\n",
      "reward:  -4.0\n",
      "reward:  -9.0\n",
      "reward:  -4.0\n",
      "reward:  -4.0\n",
      "reward:  -4.0\n",
      "reward:  -4.0\n",
      "reward:  -4.0\n",
      "reward:  -4.0\n",
      "reward:  -4.0\n",
      "reward:  -9.0\n",
      "reward:  -4.0\n",
      "reward:  -4.0\n",
      "reward:  -4.0\n",
      "reward:  -9.0\n",
      "reward:  -4.0\n",
      "reward:  -4.0\n",
      "reward:  -4.0\n",
      "reward:  -4.0\n",
      "reward:  -4.0\n",
      "reward:  -4.0\n",
      "reward:  -4.0\n",
      "reward:  -4.0\n",
      "reward:  -4.0\n",
      "reward:  -4.0\n",
      "reward:  -9.0\n",
      "reward:  -4.0\n",
      "reward:  -4.0\n",
      "reward:  -4.0\n",
      "reward:  -4.0\n",
      "reward:  -4.0\n",
      "reward:  -9.0\n",
      "reward:  -4.0\n",
      "reward:  -4.0\n",
      "reward:  -4.0\n",
      "reward:  -4.0\n",
      "reward:  -9.0\n",
      "reward:  -4.0\n",
      "reward:  -4.0\n",
      "reward:  -9.0\n",
      "reward:  -4.0\n",
      "reward:  -4.0\n",
      "reward:  -4.0\n",
      "reward:  -4.0\n",
      "reward:  -4.0\n",
      "reward:  -9.0\n",
      "reward:  -4.0\n",
      "reward:  -4.0\n",
      "reward:  -4.0\n",
      "reward:  -9.0\n",
      "reward:  -4.0\n",
      "reward:  -4.0\n",
      "reward:  -4.0\n",
      "reward:  -9.0\n",
      "reward:  -4.0\n",
      "reward:  -4.0\n",
      "reward:  97.0\n",
      "Result:  -264.0\n",
      "reward:  -4.0\n",
      "reward:  -4.0\n",
      "reward:  -4.0\n",
      "reward:  -4.0\n",
      "reward:  -9.0\n",
      "reward:  -4.0\n",
      "reward:  -4.0\n",
      "reward:  97.0\n",
      "Result:  64.0\n",
      "reward:  -4.0\n",
      "reward:  -9.0\n",
      "reward:  -4.0\n",
      "reward:  -4.0\n",
      "reward:  -9.0\n",
      "reward:  -4.0\n",
      "reward:  -4.0\n",
      "reward:  -4.0\n",
      "reward:  -4.0\n",
      "reward:  -4.0\n",
      "reward:  -9.0\n",
      "reward:  -4.0\n",
      "reward:  -4.0\n",
      "reward:  -9.0\n",
      "reward:  -4.0\n",
      "reward:  -4.0\n",
      "reward:  -4.0\n",
      "reward:  -4.0\n",
      "reward:  -4.0\n",
      "reward:  -9.0\n",
      "reward:  -4.0\n",
      "reward:  -4.0\n",
      "reward:  -9.0\n",
      "reward:  -4.0\n",
      "reward:  -4.0\n",
      "reward:  -4.0\n",
      "reward:  -4.0\n",
      "reward:  -9.0\n",
      "reward:  -4.0\n",
      "reward:  -4.0\n",
      "reward:  -9.0\n",
      "reward:  -4.0\n",
      "reward:  -4.0\n",
      "reward:  -4.0\n",
      "reward:  -4.0\n",
      "reward:  -9.0\n",
      "reward:  -4.0\n",
      "reward:  -4.0\n",
      "reward:  -4.0\n",
      "reward:  -9.0\n",
      "reward:  -4.0\n",
      "reward:  -4.0\n",
      "reward:  -4.0\n",
      "reward:  -4.0\n",
      "reward:  -4.0\n",
      "reward:  -4.0\n",
      "reward:  -9.0\n",
      "reward:  -4.0\n",
      "reward:  -4.0\n",
      "reward:  -9.0\n",
      "reward:  -4.0\n",
      "reward:  -4.0\n",
      "reward:  -4.0\n",
      "reward:  -9.0\n",
      "reward:  -4.0\n",
      "reward:  -4.0\n",
      "reward:  -4.0\n",
      "reward:  -9.0\n",
      "reward:  -4.0\n",
      "reward:  -4.0\n",
      "reward:  -4.0\n",
      "reward:  -4.0\n",
      "reward:  -4.0\n",
      "reward:  -9.0\n",
      "reward:  -4.0\n",
      "reward:  -4.0\n",
      "reward:  -4.0\n",
      "reward:  -9.0\n",
      "reward:  -4.0\n",
      "reward:  -4.0\n",
      "reward:  -4.0\n",
      "reward:  -4.0\n",
      "reward:  -4.0\n",
      "reward:  -9.0\n",
      "reward:  -4.0\n",
      "Result:  -385.0\n",
      "reward:  -4.0\n",
      "reward:  -4.0\n",
      "reward:  -4.0\n",
      "reward:  -4.0\n",
      "reward:  -4.0\n",
      "reward:  -4.0\n",
      "reward:  -4.0\n",
      "reward:  -4.0\n",
      "reward:  -4.0\n",
      "reward:  -4.0\n",
      "reward:  -4.0\n",
      "reward:  -4.0\n",
      "reward:  -4.0\n",
      "reward:  -4.0\n",
      "reward:  -9.0\n",
      "reward:  -4.0\n",
      "reward:  -4.0\n",
      "reward:  -9.0\n",
      "reward:  -4.0\n",
      "reward:  -4.0\n",
      "reward:  -4.0\n",
      "reward:  -9.0\n",
      "reward:  -4.0\n",
      "reward:  -4.0\n",
      "reward:  -4.0\n",
      "reward:  -9.0\n",
      "reward:  -4.0\n",
      "reward:  -4.0\n",
      "reward:  -4.0\n",
      "reward:  -4.0\n",
      "reward:  -4.0\n",
      "reward:  -4.0\n",
      "reward:  -4.0\n",
      "reward:  -4.0\n",
      "reward:  -4.0\n",
      "reward:  -4.0\n",
      "reward:  -9.0\n",
      "reward:  -4.0\n",
      "reward:  -4.0\n",
      "reward:  -4.0\n",
      "reward:  -9.0\n",
      "reward:  -4.0\n",
      "reward:  -4.0\n",
      "reward:  -4.0\n",
      "reward:  -4.0\n",
      "reward:  -9.0\n",
      "reward:  -4.0\n",
      "reward:  -4.0\n",
      "reward:  -4.0\n",
      "reward:  -4.0\n",
      "reward:  -4.0\n",
      "reward:  -4.0\n",
      "reward:  -4.0\n",
      "reward:  -4.0\n",
      "reward:  -4.0\n",
      "reward:  -4.0\n",
      "reward:  -9.0\n",
      "reward:  -4.0\n",
      "reward:  -4.0\n",
      "reward:  -4.0\n",
      "reward:  -4.0\n",
      "reward:  -4.0\n",
      "reward:  -4.0\n",
      "reward:  -4.0\n",
      "reward:  -4.0\n",
      "reward:  -4.0\n",
      "reward:  -9.0\n",
      "reward:  -4.0\n",
      "reward:  -4.0\n",
      "reward:  -4.0\n",
      "reward:  -4.0\n",
      "reward:  -9.0\n",
      "reward:  -4.0\n",
      "reward:  -4.0\n",
      "reward:  -4.0\n",
      "Result:  -350.0\n",
      "reward:  -4.0\n",
      "reward:  -4.0\n",
      "reward:  -9.0\n",
      "reward:  -4.0\n",
      "reward:  -4.0\n",
      "reward:  -4.0\n",
      "reward:  -4.0\n",
      "reward:  99.0\n",
      "Result:  66.0\n",
      "reward:  -4.0\n",
      "reward:  99.0\n",
      "Result:  95.0\n",
      "reward:  -4.0\n",
      "reward:  -4.0\n",
      "reward:  -4.0\n",
      "reward:  99.0\n",
      "Result:  87.0\n",
      "reward:  -4.0\n",
      "reward:  -4.0\n",
      "reward:  -9.0\n",
      "reward:  -4.0\n",
      "reward:  -4.0\n",
      "reward:  -9.0\n",
      "reward:  -4.0\n",
      "reward:  -4.0\n",
      "reward:  -4.0\n",
      "reward:  -4.0\n",
      "reward:  -4.0\n",
      "reward:  -4.0\n",
      "reward:  -9.0\n",
      "reward:  -4.0\n",
      "reward:  -4.0\n",
      "reward:  -4.0\n",
      "reward:  -4.0\n",
      "reward:  -4.0\n",
      "reward:  -4.0\n",
      "reward:  -4.0\n",
      "reward:  -4.0\n",
      "reward:  -4.0\n",
      "reward:  -4.0\n",
      "reward:  -4.0\n",
      "reward:  -4.0\n",
      "reward:  -4.0\n",
      "reward:  -9.0\n",
      "reward:  -4.0\n",
      "reward:  -4.0\n",
      "reward:  -9.0\n",
      "reward:  -4.0\n",
      "reward:  -4.0\n",
      "reward:  -4.0\n",
      "reward:  -4.0\n",
      "reward:  98.0\n",
      "Result:  -63.0\n",
      "reward:  -4.0\n",
      "reward:  99.0\n",
      "Result:  95.0\n",
      "reward:  -4.0\n",
      "reward:  -9.0\n",
      "reward:  -4.0\n",
      "reward:  -4.0\n",
      "reward:  -9.0\n",
      "reward:  -4.0\n",
      "reward:  -4.0\n",
      "reward:  -4.0\n",
      "reward:  -4.0\n",
      "reward:  -4.0\n",
      "reward:  -9.0\n",
      "reward:  -4.0\n",
      "reward:  -4.0\n",
      "reward:  -4.0\n",
      "reward:  -9.0\n",
      "reward:  -4.0\n",
      "reward:  -4.0\n",
      "reward:  -4.0\n",
      "reward:  -4.0\n",
      "reward:  -4.0\n",
      "reward:  -4.0\n",
      "reward:  -9.0\n",
      "reward:  -4.0\n",
      "reward:  -4.0\n",
      "reward:  -4.0\n",
      "reward:  -9.0\n",
      "reward:  -4.0\n",
      "reward:  -4.0\n",
      "reward:  -4.0\n",
      "reward:  -4.0\n",
      "reward:  -4.0\n",
      "reward:  -4.0\n",
      "reward:  -9.0\n",
      "reward:  -4.0\n",
      "reward:  -4.0\n",
      "reward:  -4.0\n",
      "reward:  -4.0\n",
      "reward:  -4.0\n",
      "reward:  -4.0\n",
      "reward:  -9.0\n",
      "reward:  -4.0\n",
      "reward:  -4.0\n",
      "reward:  -4.0\n",
      "reward:  -4.0\n",
      "reward:  -4.0\n",
      "reward:  -4.0\n",
      "reward:  -4.0\n",
      "reward:  -9.0\n",
      "reward:  -4.0\n",
      "reward:  -4.0\n",
      "reward:  -9.0\n",
      "reward:  -4.0\n",
      "reward:  -4.0\n",
      "reward:  -4.0\n",
      "reward:  -4.0\n",
      "reward:  -9.0\n",
      "reward:  -4.0\n",
      "reward:  -4.0\n",
      "reward:  -4.0\n",
      "reward:  -4.0\n",
      "reward:  -4.0\n",
      "reward:  -4.0\n",
      "reward:  -9.0\n",
      "reward:  -4.0\n",
      "reward:  -4.0\n",
      "reward:  -4.0\n",
      "reward:  -4.0\n",
      "reward:  -9.0\n",
      "reward:  -4.0\n",
      "reward:  -4.0\n",
      "reward:  -9.0\n",
      "reward:  -4.0\n",
      "reward:  -4.0\n",
      "reward:  -4.0\n",
      "reward:  -4.0\n",
      "Result:  -370.0\n"
     ]
    }
   ],
   "source": [
    "# Loop through episodes\n",
    "episodes = 10\n",
    "for episode in range(episodes):\n",
    "    # Create a new episode or game\n",
    "    game.new_episode()\n",
    "    # Check the game isn't done\n",
    "    while not game.is_episode_finished():\n",
    "        # Get the game state\n",
    "        state = game.get_state()\n",
    "        # Get the game image\n",
    "        img = state.screen_buffer\n",
    "        # Get the game variables - ammo\n",
    "        info = state.game_variables\n",
    "        # Take an action\n",
    "        reward = game.make_action(random.choice(actions), 4)\n",
    "        # Print reward\n",
    "        print('reward: ', reward)\n",
    "        time.sleep(0.02)\n",
    "    print('Result: ', game.get_total_reward())\n",
    "    time.sleep(2)"
   ]
  },
  {
   "cell_type": "code",
   "execution_count": 9,
   "id": "1398a4d0-9d02-4939-84da-c0d761d290b0",
   "metadata": {},
   "outputs": [],
   "source": [
    "game.close()"
   ]
  },
  {
   "cell_type": "markdown",
   "id": "8a3a0ce9-6f22-4ff4-b44e-b4fa3a3e811e",
   "metadata": {},
   "source": [
    "## 2. Converting it to a Gym Environment"
   ]
  },
  {
   "cell_type": "code",
   "execution_count": 10,
   "id": "645c1496-b01d-44f2-a5b0-941d94049c42",
   "metadata": {},
   "outputs": [
    {
     "name": "stdout",
     "output_type": "stream",
     "text": [
      "Requirement already satisfied: gym in .\\env\\lib\\site-packages (0.26.1)\n",
      "Requirement already satisfied: numpy>=1.18.0 in .\\env\\lib\\site-packages (from gym) (1.26.4)\n",
      "Requirement already satisfied: cloudpickle>=1.2.0 in .\\env\\lib\\site-packages (from gym) (3.0.0)\n",
      "Requirement already satisfied: gym-notices>=0.0.4 in .\\env\\lib\\site-packages (from gym) (0.0.8)\n",
      "Requirement already satisfied: importlib-metadata>=4.8.0 in .\\env\\lib\\site-packages (from gym) (8.2.0)\n",
      "Requirement already satisfied: zipp>=0.5 in .\\env\\lib\\site-packages (from importlib-metadata>=4.8.0->gym) (3.19.2)\n"
     ]
    }
   ],
   "source": [
    "!pip install gym"
   ]
  },
  {
   "cell_type": "code",
   "execution_count": 11,
   "id": "3cdeb278-b54d-4d0b-bbc6-f03533670443",
   "metadata": {},
   "outputs": [
    {
     "name": "stdout",
     "output_type": "stream",
     "text": [
      "Requirement already satisfied: opencv-python in .\\env\\lib\\site-packages (4.10.0.84)\n",
      "Requirement already satisfied: numpy>=1.17.0 in .\\env\\lib\\site-packages (from opencv-python) (1.26.4)\n"
     ]
    }
   ],
   "source": [
    "!pip install opencv-python"
   ]
  },
  {
   "cell_type": "code",
   "execution_count": 12,
   "id": "609be78f-45b2-4175-90a5-ef47903b1180",
   "metadata": {},
   "outputs": [],
   "source": [
    "# Import environment base class from OpenAI Gym\n",
    "from gym import Env\n",
    "# Import gym spaces\n",
    "from gym.spaces import Discrete, Box\n",
    "# Import opencv\n",
    "import cv2"
   ]
  },
  {
   "cell_type": "code",
   "execution_count": 13,
   "id": "9fdb66fd-ea11-43bf-b4f8-03cd864ca98b",
   "metadata": {},
   "outputs": [],
   "source": [
    "# Create Vizdoom OpenAI Gym Environment\n",
    "class VizDoomGym(Env):\n",
    "    # Function that is called when we start the env\n",
    "    def __init__(self, render=False):\n",
    "        # Inherit from Env\n",
    "        super().__init__()\n",
    "        # Setup the game\n",
    "        self.game = DoomGame()\n",
    "        self.game.load_config('github/ViZDoom/scenarios/basic.cfg')\n",
    "\n",
    "        # Render frame logic\n",
    "        if render == False:\n",
    "            self.game.set_window_visible(False)\n",
    "        else:\n",
    "            self.game.set_window_visible(True)\n",
    "\n",
    "        # Start the game\n",
    "        self.game.init()\n",
    "\n",
    "        # Create the action space and observation space\n",
    "        self.observation_space = Box(low=0, high=255, shape=(100, 160, 1), dtype=np.uint8)\n",
    "        self.action_space = Discrete(3)\n",
    "    \n",
    "    # This is how we take a step in the environment\n",
    "    def step(self, action):\n",
    "        # Specify action and take step\n",
    "        actions = np.identity(3)\n",
    "        reward = self.game.make_action(actions[action], 4) # 4 here is the frameskip parameter which makes the game run faster\n",
    "\n",
    "        # Get all the other stuff we need to return\n",
    "        if self.game.get_state():\n",
    "            state = self.game.get_state().screen_buffer\n",
    "            state = self.grayscale(state)\n",
    "            ammo = self.game.get_state().game_variables[0]\n",
    "            info = ammo\n",
    "        else:\n",
    "            state = np.zeros(self.observation_space.shape)\n",
    "            info = 0\n",
    "\n",
    "        info = {'info': info}\n",
    "        done = self.game.is_episode_finished()\n",
    "\n",
    "        return state, reward, done, info\n",
    "        \n",
    "    # Define how to render the game or environment\n",
    "    def render():\n",
    "        pass\n",
    "\n",
    "    # What happens when we start a new game\n",
    "    def reset(self):\n",
    "        self.game.new_episode()\n",
    "        state = self.game.get_state().screen_buffer\n",
    "        return self.grayscale(state)\n",
    "\n",
    "    # Grayscale the game frame and resize it \n",
    "    def grayscale(self, observation):\n",
    "        gray = cv2.cvtColor(np.moveaxis(observation, 0, -1), cv2.COLOR_BGR2GRAY)\n",
    "        resize = cv2.resize(gray, (160,100), interpolation=cv2.INTER_CUBIC)\n",
    "        state = np.reshape(resize, (100,160,1))\n",
    "        return state\n",
    "\n",
    "    # Call to close down the game\n",
    "    def close(self):\n",
    "        self.game.close()"
   ]
  },
  {
   "cell_type": "code",
   "execution_count": 14,
   "id": "a8eff3ce-c39d-4476-9875-48ec5b0ab852",
   "metadata": {},
   "outputs": [],
   "source": [
    "env = VizDoomGym(render=True)"
   ]
  },
  {
   "cell_type": "code",
   "execution_count": 15,
   "id": "abf1fbdb-1993-4c59-b850-caa13f81cce1",
   "metadata": {},
   "outputs": [],
   "source": [
    "state = env.reset()"
   ]
  },
  {
   "cell_type": "code",
   "execution_count": 16,
   "id": "afeb330d-2954-4ed3-a12d-bc59b30fb70f",
   "metadata": {},
   "outputs": [
    {
     "data": {
      "text/plain": [
       "(array([[[55],\n",
       "         [50],\n",
       "         [59],\n",
       "         ...,\n",
       "         [57],\n",
       "         [57],\n",
       "         [66]],\n",
       " \n",
       "        [[68],\n",
       "         [65],\n",
       "         [65],\n",
       "         ...,\n",
       "         [56],\n",
       "         [67],\n",
       "         [72]],\n",
       " \n",
       "        [[49],\n",
       "         [79],\n",
       "         [66],\n",
       "         ...,\n",
       "         [79],\n",
       "         [51],\n",
       "         [29]],\n",
       " \n",
       "        ...,\n",
       " \n",
       "        [[75],\n",
       "         [63],\n",
       "         [62],\n",
       "         ...,\n",
       "         [44],\n",
       "         [71],\n",
       "         [60]],\n",
       " \n",
       "        [[15],\n",
       "         [48],\n",
       "         [47],\n",
       "         ...,\n",
       "         [49],\n",
       "         [69],\n",
       "         [47]],\n",
       " \n",
       "        [[22],\n",
       "         [14],\n",
       "         [26],\n",
       "         ...,\n",
       "         [57],\n",
       "         [37],\n",
       "         [39]]], dtype=uint8),\n",
       " -4.0,\n",
       " False,\n",
       " {'info': 50.0})"
      ]
     },
     "execution_count": 16,
     "metadata": {},
     "output_type": "execute_result"
    }
   ],
   "source": [
    "env.step(2)"
   ]
  },
  {
   "cell_type": "code",
   "execution_count": 17,
   "id": "aa7c0bf0-686f-4c6d-820c-56ae03cc4d9a",
   "metadata": {},
   "outputs": [],
   "source": [
    "env.close()"
   ]
  },
  {
   "cell_type": "code",
   "execution_count": 18,
   "id": "8ff39115-b98e-4e4f-9b6d-7d301f5a7fe1",
   "metadata": {},
   "outputs": [],
   "source": [
    "# Import Environment checker\n",
    "from stable_baselines3.common import env_checker"
   ]
  },
  {
   "cell_type": "code",
   "execution_count": 19,
   "id": "1fa0a8d6-0941-4ae8-92c4-39ea6add22d5",
   "metadata": {},
   "outputs": [],
   "source": [
    "# env_checker.check_env(env)"
   ]
  },
  {
   "cell_type": "markdown",
   "id": "7d8b5413-701d-49ed-9333-a592132a59d4",
   "metadata": {},
   "source": [
    "## 3. View State"
   ]
  },
  {
   "cell_type": "code",
   "execution_count": 20,
   "id": "971a8781-57b7-4a6a-9794-35056c3a05ac",
   "metadata": {},
   "outputs": [],
   "source": [
    "from matplotlib import pyplot as plt"
   ]
  },
  {
   "cell_type": "code",
   "execution_count": 21,
   "id": "17531505-9517-47e8-9df6-b79779e1598f",
   "metadata": {},
   "outputs": [
    {
     "data": {
      "text/plain": [
       "<matplotlib.image.AxesImage at 0x1290a943790>"
      ]
     },
     "execution_count": 21,
     "metadata": {},
     "output_type": "execute_result"
    },
    {
     "data": {
      "image/png": "[encoded data removed]",
      "text/plain": [
       "<Figure size 640x480 with 1 Axes>"
      ]
     },
     "metadata": {},
     "output_type": "display_data"
    }
   ],
   "source": [
    "plt.imshow(cv2.cvtColor(state, cv2.COLOR_BGR2RGB))"
   ]
  },
  {
   "cell_type": "markdown",
   "id": "decccc69-643b-4a85-a243-4f30d9d8cf68",
   "metadata": {},
   "source": [
    "## 4. Setup Callback"
   ]
  },
  {
   "cell_type": "code",
   "execution_count": 22,
   "id": "6c2ed4ec-5b24-4a8c-b492-f9e256adcec8",
   "metadata": {
    "scrolled": true
   },
   "outputs": [
    {
     "name": "stdout",
     "output_type": "stream",
     "text": [
      "Requirement already satisfied: stable-baselines3[extra] in .\\env\\lib\\site-packages (2.3.2)\n",
      "Requirement already satisfied: gymnasium<0.30,>=0.28.1 in .\\env\\lib\\site-packages (from stable-baselines3[extra]) (0.29.1)\n",
      "Requirement already satisfied: numpy>=1.20 in .\\env\\lib\\site-packages (from stable-baselines3[extra]) (1.26.4)\n",
      "Requirement already satisfied: torch>=1.13 in .\\env\\lib\\site-packages (from stable-baselines3[extra]) (2.4.0+cu118)\n",
      "Requirement already satisfied: cloudpickle in .\\env\\lib\\site-packages (from stable-baselines3[extra]) (3.0.0)\n",
      "Requirement already satisfied: pandas in .\\env\\lib\\site-packages (from stable-baselines3[extra]) (2.2.2)\n",
      "Requirement already satisfied: matplotlib in .\\env\\lib\\site-packages (from stable-baselines3[extra]) (3.9.1)\n",
      "Requirement already satisfied: opencv-python in .\\env\\lib\\site-packages (from stable-baselines3[extra]) (4.10.0.84)\n",
      "Requirement already satisfied: pygame in .\\env\\lib\\site-packages (from stable-baselines3[extra]) (2.6.0)\n",
      "Requirement already satisfied: tensorboard>=2.9.1 in .\\env\\lib\\site-packages (from stable-baselines3[extra]) (2.17.0)\n",
      "Requirement already satisfied: psutil in .\\env\\lib\\site-packages (from stable-baselines3[extra]) (6.0.0)\n",
      "Requirement already satisfied: tqdm in .\\env\\lib\\site-packages (from stable-baselines3[extra]) (4.66.5)\n",
      "Requirement already satisfied: rich in .\\env\\lib\\site-packages (from stable-baselines3[extra]) (13.7.1)\n",
      "Requirement already satisfied: shimmy~=1.3.0 in .\\env\\lib\\site-packages (from shimmy[atari]~=1.3.0; extra == \"extra\"->stable-baselines3[extra]) (1.3.0)\n",
      "Requirement already satisfied: pillow in .\\env\\lib\\site-packages (from stable-baselines3[extra]) (10.4.0)\n",
      "Requirement already satisfied: autorom~=0.6.1 in .\\env\\lib\\site-packages (from autorom[accept-rom-license]~=0.6.1; extra == \"extra\"->stable-baselines3[extra]) (0.6.1)\n",
      "Requirement already satisfied: click in .\\env\\lib\\site-packages (from autorom~=0.6.1->autorom[accept-rom-license]~=0.6.1; extra == \"extra\"->stable-baselines3[extra]) (8.1.7)\n",
      "Requirement already satisfied: requests in .\\env\\lib\\site-packages (from autorom~=0.6.1->autorom[accept-rom-license]~=0.6.1; extra == \"extra\"->stable-baselines3[extra]) (2.32.3)\n",
      "Requirement already satisfied: AutoROM.accept-rom-license in .\\env\\lib\\site-packages (from autorom[accept-rom-license]~=0.6.1; extra == \"extra\"->stable-baselines3[extra]) (0.6.1)\n",
      "Requirement already satisfied: typing-extensions>=4.3.0 in .\\env\\lib\\site-packages (from gymnasium<0.30,>=0.28.1->stable-baselines3[extra]) (4.12.2)\n",
      "Requirement already satisfied: farama-notifications>=0.0.1 in .\\env\\lib\\site-packages (from gymnasium<0.30,>=0.28.1->stable-baselines3[extra]) (0.0.4)\n",
      "Requirement already satisfied: importlib-metadata>=4.8.0 in .\\env\\lib\\site-packages (from gymnasium<0.30,>=0.28.1->stable-baselines3[extra]) (8.2.0)\n",
      "Requirement already satisfied: ale-py~=0.8.1 in .\\env\\lib\\site-packages (from shimmy[atari]~=1.3.0; extra == \"extra\"->stable-baselines3[extra]) (0.8.1)\n",
      "Requirement already satisfied: absl-py>=0.4 in .\\env\\lib\\site-packages (from tensorboard>=2.9.1->stable-baselines3[extra]) (2.1.0)\n",
      "Requirement already satisfied: grpcio>=1.48.2 in .\\env\\lib\\site-packages (from tensorboard>=2.9.1->stable-baselines3[extra]) (1.65.4)\n",
      "Requirement already satisfied: markdown>=2.6.8 in .\\env\\lib\\site-packages (from tensorboard>=2.9.1->stable-baselines3[extra]) (3.6)\n",
      "Requirement already satisfied: protobuf!=4.24.0,<5.0.0,>=3.19.6 in .\\env\\lib\\site-packages (from tensorboard>=2.9.1->stable-baselines3[extra]) (4.25.4)\n",
      "Requirement already satisfied: setuptools>=41.0.0 in .\\env\\lib\\site-packages (from tensorboard>=2.9.1->stable-baselines3[extra]) (72.1.0)\n",
      "Requirement already satisfied: six>1.9 in .\\env\\lib\\site-packages (from tensorboard>=2.9.1->stable-baselines3[extra]) (1.16.0)\n",
      "Requirement already satisfied: tensorboard-data-server<0.8.0,>=0.7.0 in .\\env\\lib\\site-packages (from tensorboard>=2.9.1->stable-baselines3[extra]) (0.7.2)\n",
      "Requirement already satisfied: werkzeug>=1.0.1 in .\\env\\lib\\site-packages (from tensorboard>=2.9.1->stable-baselines3[extra]) (3.0.3)\n",
      "Requirement already satisfied: filelock in .\\env\\lib\\site-packages (from torch>=1.13->stable-baselines3[extra]) (3.15.4)\n",
      "Requirement already satisfied: sympy in .\\env\\lib\\site-packages (from torch>=1.13->stable-baselines3[extra]) (1.13.0)\n",
      "Requirement already satisfied: networkx in .\\env\\lib\\site-packages (from torch>=1.13->stable-baselines3[extra]) (3.2.1)\n",
      "Requirement already satisfied: jinja2 in .\\env\\lib\\site-packages (from torch>=1.13->stable-baselines3[extra]) (3.1.4)\n",
      "Requirement already satisfied: fsspec in .\\env\\lib\\site-packages (from torch>=1.13->stable-baselines3[extra]) (2024.6.1)\n",
      "Requirement already satisfied: contourpy>=1.0.1 in .\\env\\lib\\site-packages (from matplotlib->stable-baselines3[extra]) (1.2.1)\n",
      "Requirement already satisfied: cycler>=0.10 in .\\env\\lib\\site-packages (from matplotlib->stable-baselines3[extra]) (0.12.1)\n",
      "Requirement already satisfied: fonttools>=4.22.0 in .\\env\\lib\\site-packages (from matplotlib->stable-baselines3[extra]) (4.53.1)\n",
      "Requirement already satisfied: kiwisolver>=1.3.1 in .\\env\\lib\\site-packages (from matplotlib->stable-baselines3[extra]) (1.4.5)\n",
      "Requirement already satisfied: packaging>=20.0 in .\\env\\lib\\site-packages (from matplotlib->stable-baselines3[extra]) (24.1)\n",
      "Requirement already satisfied: pyparsing>=2.3.1 in .\\env\\lib\\site-packages (from matplotlib->stable-baselines3[extra]) (3.1.2)\n",
      "Requirement already satisfied: python-dateutil>=2.7 in .\\env\\lib\\site-packages (from matplotlib->stable-baselines3[extra]) (2.9.0)\n",
      "Requirement already satisfied: importlib-resources>=3.2.0 in .\\env\\lib\\site-packages (from matplotlib->stable-baselines3[extra]) (6.4.0)\n",
      "Requirement already satisfied: pytz>=2020.1 in .\\env\\lib\\site-packages (from pandas->stable-baselines3[extra]) (2024.1)\n",
      "Requirement already satisfied: tzdata>=2022.7 in .\\env\\lib\\site-packages (from pandas->stable-baselines3[extra]) (2024.1)\n",
      "Requirement already satisfied: markdown-it-py>=2.2.0 in .\\env\\lib\\site-packages (from rich->stable-baselines3[extra]) (3.0.0)\n",
      "Requirement already satisfied: pygments<3.0.0,>=2.13.0 in .\\env\\lib\\site-packages (from rich->stable-baselines3[extra]) (2.18.0)\n",
      "Requirement already satisfied: colorama in .\\env\\lib\\site-packages (from tqdm->stable-baselines3[extra]) (0.4.6)\n",
      "Requirement already satisfied: zipp>=0.5 in .\\env\\lib\\site-packages (from importlib-metadata>=4.8.0->gymnasium<0.30,>=0.28.1->stable-baselines3[extra]) (3.19.2)\n",
      "Requirement already satisfied: mdurl~=0.1 in .\\env\\lib\\site-packages (from markdown-it-py>=2.2.0->rich->stable-baselines3[extra]) (0.1.2)\n",
      "Requirement already satisfied: MarkupSafe>=2.1.1 in .\\env\\lib\\site-packages (from werkzeug>=1.0.1->tensorboard>=2.9.1->stable-baselines3[extra]) (2.1.5)\n",
      "Requirement already satisfied: charset-normalizer<4,>=2 in .\\env\\lib\\site-packages (from requests->autorom~=0.6.1->autorom[accept-rom-license]~=0.6.1; extra == \"extra\"->stable-baselines3[extra]) (3.3.2)\n",
      "Requirement already satisfied: idna<4,>=2.5 in .\\env\\lib\\site-packages (from requests->autorom~=0.6.1->autorom[accept-rom-license]~=0.6.1; extra == \"extra\"->stable-baselines3[extra]) (3.7)\n",
      "Requirement already satisfied: urllib3<3,>=1.21.1 in .\\env\\lib\\site-packages (from requests->autorom~=0.6.1->autorom[accept-rom-license]~=0.6.1; extra == \"extra\"->stable-baselines3[extra]) (2.2.2)\n",
      "Requirement already satisfied: certifi>=2017.4.17 in .\\env\\lib\\site-packages (from requests->autorom~=0.6.1->autorom[accept-rom-license]~=0.6.1; extra == \"extra\"->stable-baselines3[extra]) (2024.7.4)\n",
      "Requirement already satisfied: mpmath<1.4,>=1.1.0 in .\\env\\lib\\site-packages (from sympy->torch>=1.13->stable-baselines3[extra]) (1.3.0)\n"
     ]
    }
   ],
   "source": [
    "!pip install stable-baselines3[extra]"
   ]
  },
  {
   "cell_type": "code",
   "execution_count": 23,
   "id": "33f7788d-ffa1-48e9-b668-fe7580824534",
   "metadata": {
    "scrolled": true
   },
   "outputs": [
    {
     "name": "stdout",
     "output_type": "stream",
     "text": [
      "Looking in indexes: https://download.pytorch.org/whl/cu118\n",
      "Requirement already satisfied: torch in .\\env\\lib\\site-packages (2.4.0+cu118)\n",
      "Requirement already satisfied: torchvision in .\\env\\lib\\site-packages (0.19.0+cu118)\n",
      "Requirement already satisfied: torchaudio in .\\env\\lib\\site-packages (2.4.0+cu118)\n",
      "Requirement already satisfied: filelock in .\\env\\lib\\site-packages (from torch) (3.15.4)\n",
      "Requirement already satisfied: typing-extensions>=4.8.0 in .\\env\\lib\\site-packages (from torch) (4.12.2)\n",
      "Requirement already satisfied: sympy in .\\env\\lib\\site-packages (from torch) (1.13.0)\n",
      "Requirement already satisfied: networkx in .\\env\\lib\\site-packages (from torch) (3.2.1)\n",
      "Requirement already satisfied: jinja2 in .\\env\\lib\\site-packages (from torch) (3.1.4)\n",
      "Requirement already satisfied: fsspec in .\\env\\lib\\site-packages (from torch) (2024.6.1)\n",
      "Requirement already satisfied: numpy in .\\env\\lib\\site-packages (from torchvision) (1.26.4)\n",
      "Requirement already satisfied: pillow!=8.3.*,>=5.3.0 in .\\env\\lib\\site-packages (from torchvision) (10.4.0)\n",
      "Requirement already satisfied: MarkupSafe>=2.0 in .\\env\\lib\\site-packages (from jinja2->torch) (2.1.5)\n",
      "Requirement already satisfied: mpmath<1.4,>=1.1.0 in .\\env\\lib\\site-packages (from sympy->torch) (1.3.0)\n"
     ]
    }
   ],
   "source": [
    "!pip3 install torch torchvision torchaudio --index-url https://download.pytorch.org/whl/cu118"
   ]
  },
  {
   "cell_type": "code",
   "execution_count": 24,
   "id": "05ef1fa2-4235-4b99-9c16-e146f99007a8",
   "metadata": {},
   "outputs": [],
   "source": [
    "# Import os for file nav\n",
    "import os \n",
    "# Import callback class from sb3\n",
    "from stable_baselines3.common.callbacks import BaseCallback"
   ]
  },
  {
   "cell_type": "code",
   "execution_count": 25,
   "id": "c93a52ad-10ba-468f-8ad8-3e7c59987815",
   "metadata": {},
   "outputs": [],
   "source": [
    "class TrainAndLoggingCallback(BaseCallback):\n",
    "    def __init__(self, check_freq, save_path, verbose=1):\n",
    "        super(TrainAndLoggingCallback, self).__init__(verbose)\n",
    "        self.check_freq = check_freq\n",
    "        self.save_path = save_path\n",
    "\n",
    "    def _init_callback(self):\n",
    "        if self.save_path is not None:\n",
    "            os.makedirs(self.save_path, exist_ok=True)\n",
    "\n",
    "    def _on_step(self):\n",
    "        if self.n_calls % self.check_freq == 0:\n",
    "            model_path = os.path.join(self.save_path, 'best_model_{}'.format(self.n_calls))\n",
    "            self.model.save(model_path)\n",
    "\n",
    "        return True"
   ]
  },
  {
   "cell_type": "code",
   "execution_count": 26,
   "id": "3cfaaa5e-c0de-4693-a619-76f68f8ec423",
   "metadata": {},
   "outputs": [],
   "source": [
    "CHECKPOINT_DIR = './train/train_basic'\n",
    "LOG_DIR = './logs/log_basic'"
   ]
  },
  {
   "cell_type": "code",
   "execution_count": 27,
   "id": "3c421803-7838-462a-835c-96ac34e9647b",
   "metadata": {},
   "outputs": [],
   "source": [
    "callback = TrainAndLoggingCallback(check_freq=10000, save_path=CHECKPOINT_DIR)"
   ]
  },
  {
   "cell_type": "markdown",
   "id": "23a22300-9c23-4cb4-adf4-0ec0a1371adb",
   "metadata": {},
   "source": [
    "## 5. Train Gym"
   ]
  },
  {
   "cell_type": "code",
   "execution_count": 28,
   "id": "a1d64eb2-18c7-480d-9b45-2174951a8ce1",
   "metadata": {},
   "outputs": [],
   "source": [
    "# Import ppo for training \n",
    "from stable_baselines3 import PPO"
   ]
  },
  {
   "cell_type": "code",
   "execution_count": 29,
   "id": "28b878cb-d5fb-41dd-a3dc-9f1090a91b1b",
   "metadata": {},
   "outputs": [],
   "source": [
    "# Non rendered environment\n",
    "env = VizDoomGym()"
   ]
  },
  {
   "cell_type": "code",
   "execution_count": 30,
   "id": "11f13075-1aab-42e2-a1cd-10cb7d0530c9",
   "metadata": {},
   "outputs": [
    {
     "name": "stdout",
     "output_type": "stream",
     "text": [
      "Using cpu device\n",
      "Wrapping the env with a `Monitor` wrapper\n",
      "Wrapping the env in a DummyVecEnv.\n",
      "Wrapping the env in a VecTransposeImage.\n"
     ]
    },
    {
     "name": "stderr",
     "output_type": "stream",
     "text": [
      "C:\\projects\\shradha-doom\\env\\lib\\site-packages\\stable_baselines3\\common\\vec_env\\patch_gym.py:49: UserWarning: You provided an OpenAI Gym environment. We strongly recommend transitioning to Gymnasium environments. Stable-Baselines3 is automatically wrapping your environments in a compatibility layer, which could potentially cause issues.\n",
      "  warnings.warn(\n"
     ]
    }
   ],
   "source": [
    "model = PPO('CnnPolicy', env, tensorboard_log=LOG_DIR, verbose=1, learning_rate=0.0001, n_steps=2048)"
   ]
  },
  {
   "cell_type": "code",
   "execution_count": 31,
   "id": "59387f3d-0f99-4c58-9d35-f0aabe466a37",
   "metadata": {
    "scrolled": true
   },
   "outputs": [],
   "source": [
    "model.learn(total_timesteps=100000, callback=callback)"
   ]
  },
  {
   "cell_type": "markdown",
   "id": "9e926742-a14e-496a-bf38-b027dea5fff1",
   "metadata": {},
   "source": [
    "## 6. Test the Model"
   ]
  },
  {
   "cell_type": "code",
   "execution_count": 32,
   "id": "72063e00-d340-44c7-b5b2-9d3d10ae5f10",
   "metadata": {},
   "outputs": [],
   "source": [
    "# Import eval policy to test agent\n",
    "from stable_baselines3.common.evaluation import evaluate_policy"
   ]
  },
  {
   "cell_type": "code",
   "execution_count": 33,
   "id": "f183011f-1836-404d-9b30-6473aec84950",
   "metadata": {},
   "outputs": [],
   "source": [
    "# Reload model from disk\n",
    "model = PPO.load('./train/train_basic/best_model_60000')"
   ]
  },
  {
   "cell_type": "code",
   "execution_count": 34,
   "id": "814614e7-b321-471e-8c27-b64435bb2451",
   "metadata": {},
   "outputs": [],
   "source": [
    "# Create rendered environment\n",
    "env = VizDoomGym(render=True)"
   ]
  },
  {
   "cell_type": "code",
   "execution_count": 35,
   "id": "4e638747-eff3-480b-a85e-9648103fecf1",
   "metadata": {},
   "outputs": [
    {
     "name": "stderr",
     "output_type": "stream",
     "text": [
      "C:\\projects\\shradha-doom\\env\\lib\\site-packages\\stable_baselines3\\common\\vec_env\\patch_gym.py:49: UserWarning: You provided an OpenAI Gym environment. We strongly recommend transitioning to Gymnasium environments. Stable-Baselines3 is automatically wrapping your environments in a compatibility layer, which could potentially cause issues.\n",
      "  warnings.warn(\n",
      "C:\\projects\\shradha-doom\\env\\lib\\site-packages\\stable_baselines3\\common\\evaluation.py:67: UserWarning: Evaluation environment is not wrapped with a ``Monitor`` wrapper. This may result in reporting modified episode lengths and rewards, if other wrappers happen to modify these. Consider wrapping environment first with ``Monitor`` wrapper.\n",
      "  warnings.warn(\n"
     ]
    }
   ],
   "source": [
    "# Evaluate mean reward for 10 games\n",
    "mean_reward, _ = evaluate_policy(model, env, n_eval_episodes=100)"
   ]
  },
  {
   "cell_type": "code",
   "execution_count": 36,
   "id": "02b3d1ac-d23c-428d-b3b8-7458005d5240",
   "metadata": {},
   "outputs": [
    {
     "data": {
      "text/plain": [
       "86.53"
      ]
     },
     "execution_count": 36,
     "metadata": {},
     "output_type": "execute_result"
    }
   ],
   "source": [
    "mean_reward"
   ]
  },
  {
   "cell_type": "code",
   "execution_count": 37,
   "id": "9ca4afa5-7a18-4566-a674-af90166e1860",
   "metadata": {},
   "outputs": [
    {
     "name": "stdout",
     "output_type": "stream",
     "text": [
      "Total Reward for episode 95.0 is 0\n",
      "Total Reward for episode 95.0 is 1\n",
      "Total Reward for episode 64.0 is 2\n",
      "Total Reward for episode 95.0 is 3\n",
      "Total Reward for episode 91.0 is 4\n"
     ]
    }
   ],
   "source": [
    "for episode in range(5):\n",
    "    obs = env.reset()\n",
    "    done = False\n",
    "    total_reward = 0\n",
    "    while not done:\n",
    "        action, _ = model.predict(obs)\n",
    "        obs, reward, done, info = env.step(action)\n",
    "        time.sleep(0.20)\n",
    "        total_reward += reward\n",
    "\n",
    "    print('Total Reward for episode {} is {}'.format(episode, total_reward))\n",
    "    time.sleep(2)"
   ]
  },
  {
   "cell_type": "code",
   "execution_count": 38,
   "id": "4852e359-8292-4648-8cfd-8a57f2a4a9e4",
   "metadata": {},
   "outputs": [
    {
     "name": "stdout",
     "output_type": "stream",
     "text": [
      "Mean reward over 100 episodes: 82.82\n"
     ]
    }
   ],
   "source": [
    "mean_reward, _ = evaluate_policy(model, env, n_eval_episodes=100)\n",
    "print(f'Mean reward over 100 episodes: {mean_reward}')"
   ]
  },
  {
   "cell_type": "code",
   "execution_count": 39,
   "id": "55d0ff99-d99c-4c01-8c7a-4b65170d44d3",
   "metadata": {},
   "outputs": [
    {
     "name": "stdout",
     "output_type": "stream",
     "text": [
      "Average Episode Length: 4.53\n",
      "Success Rate: 0.99\n",
      "Reward Variance (Stability): 260.14189999999996\n"
     ]
    }
   ],
   "source": [
    "episode_lengths = []\n",
    "success_count = 0\n",
    "rewards = []\n",
    "\n",
    "# Define a success threshold (e.g., 10 as an example; adjust based on your environment)\n",
    "success_threshold = 10\n",
    "\n",
    "for episode in range(100):\n",
    "    obs = env.reset()\n",
    "    done = False\n",
    "    total_reward = 0\n",
    "    steps = 0\n",
    "\n",
    "    while not done:\n",
    "        action, _ = model.predict(obs)\n",
    "        obs, reward, done, info = env.step(action)\n",
    "        total_reward += reward\n",
    "        steps += 1\n",
    "\n",
    "    episode_lengths.append(steps)\n",
    "    rewards.append(total_reward)\n",
    "    \n",
    "    # Check if the episode is successful\n",
    "    if total_reward > success_threshold:\n",
    "        success_count += 1\n",
    "\n",
    "avg_episode_length = np.mean(episode_lengths)\n",
    "success_rate = success_count / 100\n",
    "reward_variance = np.var(rewards)\n",
    "\n",
    "print(f'Average Episode Length: {avg_episode_length}')\n",
    "print(f'Success Rate: {success_rate}')\n",
    "print(f'Reward Variance (Stability): {reward_variance}')"
   ]
  },
  {
   "cell_type": "markdown",
   "id": "4995de90-851f-4424-91c6-63dd583c3d4b",
   "metadata": {},
   "source": [
    "### Import Necessary Libraries for Visualization"
   ]
  },
  {
   "cell_type": "code",
   "execution_count": 40,
   "id": "6b07eff1-bd57-4072-a1b2-d0787830f837",
   "metadata": {},
   "outputs": [],
   "source": [
    "import matplotlib.pyplot as plt\n",
    "import numpy as np"
   ]
  },
  {
   "cell_type": "markdown",
   "id": "275d1e1e-7588-471d-88f2-93cf525df2f4",
   "metadata": {},
   "source": [
    "### Visualizations!"
   ]
  },
  {
   "cell_type": "code",
   "execution_count": 41,
   "id": "f911a34c-ad6d-45e0-bcf4-421530d56669",
   "metadata": {},
   "outputs": [
    {
     "data": {
      "image/png": "[encoded data removed]",
      "text/plain": [
       "<Figure size 1000x600 with 1 Axes>"
      ]
     },
     "metadata": {},
     "output_type": "display_data"
    }
   ],
   "source": [
    "# Visualize Episode Length Distribution\n",
    "plt.figure(figsize=(10, 6))\n",
    "plt.hist(episode_lengths, bins=10, color='blue', edgecolor='black', label='Episode Lengths')\n",
    "plt.title('Episode Length Distribution')\n",
    "plt.xlabel('Number of Steps')\n",
    "plt.ylabel('Frequency')\n",
    "plt.legend(loc='upper right')  # Add legend\n",
    "plt.show()"
   ]
  },
  {
   "cell_type": "code",
   "execution_count": 42,
   "id": "91851bf8-4ede-416b-9ec0-06b4a31e5e65",
   "metadata": {},
   "outputs": [
    {
     "data": {
      "image/png": "[encoded data removed]",
      "text/plain": [
       "<Figure size 1000x600 with 1 Axes>"
      ]
     },
     "metadata": {},
     "output_type": "display_data"
    }
   ],
   "source": [
    "# Visualize Reward Distribution\n",
    "plt.figure(figsize=(10, 6))\n",
    "plt.hist(rewards, bins=10, color='green', edgecolor='black', label='Rewards')\n",
    "plt.title('Reward Distribution')\n",
    "plt.xlabel('Total Reward per Episode')\n",
    "plt.ylabel('Frequency')\n",
    "plt.legend(loc='upper right')  # Add legend\n",
    "plt.show()"
   ]
  },
  {
   "cell_type": "code",
   "execution_count": 43,
   "id": "71f7f34d-017b-49b0-a4c6-db37df6e4cfe",
   "metadata": {},
   "outputs": [
    {
     "data": {
      "image/png": "[encoded data removed]",
      "text/plain": [
       "<Figure size 600x600 with 1 Axes>"
      ]
     },
     "metadata": {},
     "output_type": "display_data"
    }
   ],
   "source": [
    "# Visualize Success Rate (Doughnut Chart)\n",
    "plt.figure(figsize=(6, 6))\n",
    "labels = ['Success', 'Failure']\n",
    "sizes = [success_rate * 100, (1 - success_rate) * 100]\n",
    "colors = ['lightgreen', 'lightcoral']\n",
    "\n",
    "# Create a doughnut chart\n",
    "plt.pie(sizes, labels=labels, colors=colors, autopct='%1.1f%%', startangle=140, wedgeprops=dict(width=0.3))\n",
    "\n",
    "# Add a legend\n",
    "plt.legend(labels, loc='best')\n",
    "\n",
    "plt.title('Success Rate')\n",
    "plt.show()"
   ]
  },
  {
   "cell_type": "code",
   "execution_count": 44,
   "id": "d1db3e01-bf1f-4ec8-8611-23be4012b40a",
   "metadata": {},
   "outputs": [
    {
     "data": {
      "image/png": "[encoded data removed]",
      "text/plain": [
       "<Figure size 1000x600 with 1 Axes>"
      ]
     },
     "metadata": {},
     "output_type": "display_data"
    }
   ],
   "source": [
    "# Visualize Reward Variance Over Time (Line Chart)\n",
    "reward_variances = []\n",
    "\n",
    "for episode in range(100):\n",
    "    obs = env.reset()\n",
    "    done = False\n",
    "    total_reward = 0\n",
    "\n",
    "    while not done:\n",
    "        action, _ = model.predict(obs)\n",
    "        obs, reward, done, info = env.step(action)\n",
    "        total_reward += reward\n",
    "\n",
    "    rewards.append(total_reward)\n",
    "    if len(rewards) > 1:\n",
    "        variance = np.var(rewards)\n",
    "        reward_variances.append(variance)\n",
    "\n",
    "# Create a line chart for reward variance\n",
    "plt.figure(figsize=(10, 6))\n",
    "plt.plot(reward_variances, color='orange', marker='o', label='Reward Variance')\n",
    "plt.title('Reward Variance Over Episodes')\n",
    "plt.xlabel('Episode')\n",
    "plt.ylabel('Reward Variance (points squared)')\n",
    "plt.grid(True)\n",
    "plt.legend(loc='upper right')  # Add legend\n",
    "plt.show()"
   ]
  },
  {
   "cell_type": "code",
   "execution_count": null,
   "id": "85ebdccc-3909-4930-8c0c-0e2a28a05df1",
   "metadata": {},
   "outputs": [],
   "source": []
  }
 ],
 "metadata": {
  "kernelspec": {
   "display_name": "Python 3 (ipykernel)",
   "language": "python",
   "name": "python3"
  },
  "language_info": {
   "codemirror_mode": {
    "name": "ipython",
    "version": 3
   },
   "file_extension": ".py",
   "mimetype": "text/x-python",
   "name": "python",
   "nbconvert_exporter": "python",
   "pygments_lexer": "ipython3",
   "version": "3.9.19"
  }
 },
 "nbformat": 4,
 "nbformat_minor": 5
}
